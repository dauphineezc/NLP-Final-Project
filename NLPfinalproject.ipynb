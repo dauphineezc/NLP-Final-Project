{
  "nbformat": 4,
  "nbformat_minor": 0,
  "metadata": {
    "colab": {
      "provenance": [],
      "authorship_tag": "ABX9TyNwQlAuT1tnZca1IqM0NbZF",
      "include_colab_link": true
    },
    "kernelspec": {
      "name": "python3",
      "display_name": "Python 3"
    },
    "language_info": {
      "name": "python"
    }
  },
  "cells": [
    {
      "cell_type": "markdown",
      "metadata": {
        "id": "view-in-github",
        "colab_type": "text"
      },
      "source": [
        "<a href=\"https://colab.research.google.com/github/dauphineezc/NLP-Final-Project/blob/main/NLPfinalproject.ipynb\" target=\"_parent\"><img src=\"https://colab.research.google.com/assets/colab-badge.svg\" alt=\"Open In Colab\"/></a>"
      ]
    },
    {
      "cell_type": "code",
      "source": [
        "# Environment setup (run once per session)\n",
        "# If you ever see ImportError or model‐not‐found errors, un-comment commands and re-run:\n",
        "# !pip install nltk spacy pdfminer.six PyPDF2\n",
        "# !python -m spacy download en_core_web_sm\n",
        "\n",
        "import nltk\n",
        "import spacy\n",
        "from pdfminer.high_level import extract_text\n",
        "from collections import Counter\n",
        "import re\n",
        "\n",
        "# Load SpaCy model\n",
        "try:\n",
        "    nlp = spacy.load('en_core_web_sm')\n",
        "except:\n",
        "    print(\"Run `!python -m spacy download en_core_web_sm` in Colab.\")\n",
        "    nlp = None"
      ],
      "metadata": {
        "id": "Gy4vIexLU2-S"
      },
      "execution_count": 3,
      "outputs": []
    },
    {
      "cell_type": "code",
      "source": [
        "# Extract text from a PDF\n",
        "def extract_text_from_pdf(pdf_path: str) -> str:\n",
        "    return extract_text(pdf_path)\n",
        "\n",
        "\n",
        "# Basic preprocessing\n",
        "def preprocess_text(text: str):\n",
        "    sentences = nltk.sent_tokenize(text)\n",
        "    tokens = [nltk.word_tokenize(sent) for sent in sentences]\n",
        "    pos_tags = [nltk.pos_tag(tokens_i) for tokens_i in tokens]\n",
        "    return sentences, tokens, pos_tags\n",
        "\n",
        "\n",
        "# Candidate Term Extraction (SpaCy noun chunks + frequency)\n",
        "def extract_candidate_terms(text: str, top_k: int = 20) -> list[str]:\n",
        "    \"\"\"\n",
        "    Runs SpaCy over text and returns the top_k most frequent noun-chunks\n",
        "    (lowercased, de-duplicated).\n",
        "    \"\"\"\n",
        "    doc = nlp(text)\n",
        "    # collect normalized noun-chunk strings\n",
        "    chunks = [chunk.text.lower().strip() for chunk in doc.noun_chunks]\n",
        "    # simple frequency ranking\n",
        "    freq = Counter(chunks)\n",
        "    return [term for term, _ in freq.most_common(top_k)]\n",
        "\n",
        "\n",
        "# Definition Extraction via Regex Patterns\n",
        "_DEFINITION_PATTERNS = [\n",
        "    r\"{term}\\s+is\\s+([^.;]+)\",\n",
        "    r\"{term}\\s+are\\s+([^.;]+)\",\n",
        "    r\"{term}\\s+refers\\s+to\\s+([^.;]+)\",\n",
        "    r\"the\\s+term\\s+{term}\\s+means\\s+([^.;]+)\",\n",
        "]\n",
        "\n",
        "\n",
        "def extract_definitions(\n",
        "    sentences: list[str],\n",
        "    candidate_terms: list[str]\n",
        ") -> dict[str,str]:\n",
        "    \"\"\"\n",
        "    For each term, scans sentences for a matching pattern and returns\n",
        "    the first captured definition. Case-insensitive.\n",
        "    \"\"\"\n",
        "    definitions: dict[str,str] = {}\n",
        "    for term in candidate_terms:\n",
        "        escaped = re.escape(term)\n",
        "        for sent in sentences:\n",
        "            for pat in _DEFINITION_PATTERNS:\n",
        "                regex = pat.format(term=escaped)\n",
        "                m = re.search(regex, sent, flags=re.IGNORECASE)\n",
        "                if m:\n",
        "                    definitions[term] = m.group(1).strip()\n",
        "                    break\n",
        "            if term in definitions:\n",
        "                break\n",
        "    return definitions\n",
        "\n",
        "\n",
        "# Flashcard Generation\n",
        "def generate_flashcards(pdf_path: str, top_k: int = 20) -> list[dict]:\n",
        "    \"\"\"\n",
        "    End-to-end: PDF → text → preprocess → term extraction → definitions → flashcards\n",
        "    Returns a list of {\"term\":..., \"definition\":...}.\n",
        "    \"\"\"\n",
        "    # 1) raw extraction + basic NLP\n",
        "    text = extract_text_from_pdf(pdf_path)\n",
        "    sentences, tokens, pos_tags = preprocess_text(text)\n",
        "\n",
        "    # 2) terms extraction\n",
        "    candidates = extract_candidate_terms(text, top_k=top_k)\n",
        "\n",
        "    # 3) definition generations\n",
        "    defs = extract_definitions(sentences, candidates)\n",
        "\n",
        "    # 4) format\n",
        "    flashcards = []\n",
        "    for term in candidates:\n",
        "        flashcards.append({\n",
        "            \"term\":       term,\n",
        "            \"definition\": defs.get(term, \"\")\n",
        "        })\n",
        "    return flashcards\n",
        "\n",
        "\n",
        "# Example Usage\n",
        "if __name__ == \"__main__\":\n",
        "    sample_pdf = \"/content/drive/MyDrive/notes/sample_notes.pdf\"  # adjust path\n",
        "    cards = generate_flashcards(sample_pdf, top_k=10)\n",
        "    for card in cards:\n",
        "        print(f\"• {card['term'].title()}\\n    → {card['definition']}\\n\")\n"
      ],
      "metadata": {
        "id": "d3RxpymvXD9a"
      },
      "execution_count": 5,
      "outputs": []
    }
  ]
}